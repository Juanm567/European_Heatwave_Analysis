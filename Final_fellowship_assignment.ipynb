{
 "cells": [
  {
   "cell_type": "markdown",
   "metadata": {
    "id": "B9UfJ1yWi8Yi"
   },
   "source": [
    "#Final Assignment"
   ]
  },
  {
   "cell_type": "code",
   "execution_count": null,
   "metadata": {
    "colab": {
     "base_uri": "https://localhost:8080/",
     "height": 89
    },
    "collapsed": true,
    "executionInfo": {
     "elapsed": 11644,
     "status": "ok",
     "timestamp": 1754369314597,
     "user": {
      "displayName": "Juan Mendez",
      "userId": "01260928303353937289"
     },
     "user_tz": 240
    },
    "id": "67XbKpiow0aA",
    "outputId": "aab25d79-d192-4182-fd6b-78c10c6fdc7d"
   },
   "outputs": [],
   "source": [
    "#Using this script to get data for a specific year\n",
    "import pandas as pd\n",
    "import numpy as np\n",
    "import seaborn as sns\n",
    "import matplotlib.pyplot as plt\n",
    "url = \"https://berkeley-earth-temperature.s3.us-west-1.amazonaws.com/Regional/TAVG/europe-TAVG-Trend.txt\"\n",
    "column_names= ['Year','Month','Temp.A']\n",
    "df = pd.read_csv(url,skiprows = 70,sep ='\\s+',names = column_names,usecols=[0,1,2])\n",
    "def load_summer_anomalies(df):\n",
    "  month = {6:'June',7:'July',8:'August'}\n",
    "  Summer = df[df['Month'].isin([6,7,8])][['Year','Month','Temp.A']]\n",
    "  Summer['Month'] = Summer['Month'].map(month)\n",
    "  return Summer\n",
    "df = load_summer_anomalies(df)\n",
    "saapy = df.groupby('Year')['Temp.A'].mean().reset_index()\n",
    "saapy.columns = ['Year','S_A_A']\n",
    "f_df = saapy[saapy['Year'].between(1946,1946)].copy()\n",
    "f_df\n",
    "\n",
    "\n",
    "\n",
    "\n"
   ]
  },
  {
   "cell_type": "code",
   "execution_count": null,
   "metadata": {
    "colab": {
     "base_uri": "https://localhost:8080/",
     "height": 1000
    },
    "executionInfo": {
     "elapsed": 3293,
     "status": "ok",
     "timestamp": 1754369317888,
     "user": {
      "displayName": "Juan Mendez",
      "userId": "01260928303353937289"
     },
     "user_tz": 240
    },
    "id": "WHuowyzikiXA",
    "outputId": "2889db16-0312-4010-be17-4b6366d30bae"
   },
   "outputs": [],
   "source": [
    "#Import all needed libraries for filtering data and plotting\n",
    "import pandas as pd\n",
    "import numpy as np\n",
    "import seaborn as sns\n",
    "import matplotlib.pyplot as plt\n",
    "\n",
    "#load URL\n",
    "url = \"https://berkeley-earth-temperature.s3.us-west-1.amazonaws.com/Regional/TAVG/europe-TAVG-Trend.txt\"\n",
    "column_names= ['Year','Month','Temp.A']\n",
    "#use only year month and temperature\n",
    "df = pd.read_csv(url,skiprows = 70,sep ='\\s+',names = column_names,usecols=[0,1,2])\n",
    "\n",
    "#Change the numbers to actual months\n",
    "\n",
    "def load_summer_anomalies(df):\n",
    "  month = {6:'June',7:'July',8:'August'}\n",
    "  Summer = df[df['Month'].isin([6,7,8])][['Year','Month','Temp.A']]\n",
    "  Summer['Month'] = Summer['Month'].map(month)\n",
    "  return Summer\n",
    "df = load_summer_anomalies(df)\n",
    "\n",
    "#Get the mean value of each year\n",
    "saapy = df.groupby('Year')['Temp.A'].mean().reset_index()\n",
    "\n",
    "#Rename columns\n",
    "saapy.columns = ['Year','S_A_A']\n",
    "\n",
    "#Reduce the info we use from the 20th century to 2020\n",
    "f_df = saapy[saapy['Year'].between(1900,2020)].copy()\n",
    "\n",
    "#set graph size\n",
    "plt.figure(figsize = (35,10))\n",
    "\n",
    "# use seaborn to create the graph\n",
    "a = sns.lineplot(data = f_df,x = 'Year',y = 'S_A_A',color = 'Orange')\n",
    "\n",
    "#Change label names\n",
    "a.set(xlabel=\"Year\",ylabel=\"Temperature Anomaly (°C)\")\n",
    "a.set_title(\"Europe Summer Anomalies 1900 - 2020\")\n",
    "\n",
    "#Go year by year every 10 years\n",
    "plt.xticks(ticks=range(f_df['Year'].min(), f_df['Year'].max()+1, 10), rotation=60)\n",
    "\n",
    "#Annotations\n",
    "plt.annotate(\"2003 ≈ Anomaly 2.23\", xy=(2003,2.226667),xytext=(1994,2.0),arrowprops=dict(color= 'Red',arrowstyle = \"->\"))\n",
    "plt.annotate(\"2018\", xy=(2018,2.119333),xytext=(2015,2.0),arrowprops=dict(color= 'Black',arrowstyle = \"->\"))\n",
    "plt.annotate(\"2010\", xy=(2010,1.708333),xytext=(2007,2.0),arrowprops=dict(color= 'Black',arrowstyle = \"->\"))\n",
    "plt.axhline(y=2.226667, color='Red', linestyle='--')\n",
    "plt.axvline(x=2003, color='Black',linestyle='--')\n",
    "plt.axvline(x=2018, color='Black',linestyle='--')\n",
    "plt.axvline(x=2010, color='Black',linestyle='--')\n",
    "plt.axvspan(2002,2004, color='red',alpha=0.1)\n",
    "\n",
    "#show the graph\n",
    "plt.show()\n",
    "\n",
    "#use the years 2003 - 2020 for the new graph\n",
    "d_df = f_df[f_df['Year'].between(2003,2020)]\n",
    "\n",
    "#Graph size\n",
    "plt.figure(figsize=(35,10))\n",
    "\n",
    "#Use seaborn to make a graph of 2003 - 2020\n",
    "b = sns.lineplot(data = d_df,x = 'Year',y = 'S_A_A',color = 'Orange')\n",
    "b.set_title(\"Europe Summer Anomalies 2003 - 2020\")\n",
    "\n",
    "#Labels\n",
    "b.set(xlabel=\"Year\",ylabel=\"Temperature Anomaly (°C)\")\n",
    "\n",
    "#Annotations\n",
    "plt.annotate(\"2003 ≈ Anomaly: 2.23\", xy=(2003,2.226667),xytext=(2005,2.0),arrowprops=dict(color= 'Red',arrowstyle = \"->\"))\n",
    "plt.annotate(\"2010 ≈ Anomaly: 1.7 \", xy=(2010,1.708333),xytext=(2007,1.85),arrowprops=dict(color= 'Black',arrowstyle = \"->\"))\n",
    "plt.annotate(\"2018 ≈ Anomaly: 2.12 \", xy=(2018,2.119333),xytext=(2016,1.8),arrowprops=dict(color= 'Black',arrowstyle = \"->\"))\n",
    "plt.xticks(ticks=d_df['Year'].unique(), rotation=60)\n",
    "plt.axvline(x=2003, color='Black',linestyle='--')\n",
    "plt.axhline(y=2.226667, color='Red', linestyle='--')\n",
    "\n",
    "#Show graph\n",
    "plt.show()\n",
    "\n",
    "\n",
    "\n",
    "\n",
    "\n"
   ]
  },
  {
   "cell_type": "markdown",
   "metadata": {
    "id": "qheq7971WgCe"
   },
   "source": [
    "#Analyzing the 2003 European Heatwave and Its Climate Context\n",
    "\n",
    "## Comparing the 2003 Heatwave with Previous Temperatures\n",
    "\n",
    "In 2003, Europe experienced a **peak temperature anomaly of 2.23°C**, an unprecedented value when compared to historical records. Looking back, the **highest anomaly during the 20th century was around 0.8°C**, occurring sometime between **1940 and 1950**. That means, within just 53 years, the summer anomaly **nearly tripled**.\n",
    "\n",
    "While short-term dips exist, the overall trend is an **oscillating but accelerating rise** in summer temperature anomalies — with post-2003 values far exceeding any prior 20th-century values. This clearly indicates a **shift in climate behavior**.\n",
    "\n",
    "---\n",
    "\n",
    "## Warming Trend\n",
    "\n",
    "The data shows a **strong warming trend**, especially in the 21st century. What’s striking is that even the **lowest anomalies in recent decades** are comparable to the **highest peaks of the 20th century**. In essence, **what used to be extreme is now normal**.\n",
    "\n",
    "Industrialization and development have brought progress, but the graph shows the **climate cost** of that progress. Despite temporary dips, the **upward trajectory remains clear**, and 2003 serves as a visual tipping point.\n",
    "\n",
    "---\n",
    "\n",
    "## Factors Contributing to the 2003 Heatwave\n",
    "\n",
    "The 2003 event was a **preview of the future**. Key compounding factors included:\n",
    "\n",
    "- **Persistent high-pressure ridge** (atmospheric blocking)\n",
    "- **Dry soils** leading to **reduced evaporative cooling**\n",
    "- **Feedback loop**: Heat → Drought → Less Cooling → More Heat\n",
    "\n",
    "This loop intensifies itself. Without meaningful emissions reductions, events like 2003 could become **increasingly common**. While there was a sharp drop in 2004, the following years show a **steady linear rise** — hinting at **long-term climate inertia**.\n",
    "\n",
    "---\n",
    "\n",
    "## Rarity of the Event\n",
    "\n",
    "At the time, the 2003 heatwave was statistically extreme. But since then, anomalies have **remained elevated** — almost nothing has dropped below **0.6°C**, making the event **less rare in hindsight**.\n",
    "\n",
    "From a 2025 perspective, **2003 is no longer an outlier**. This reclassification of extreme events into the norm shows how **quickly climate baselines shift** when warming is unchecked.\n",
    "\n",
    "---\n",
    "\n",
    "## Recent Years\n",
    "\n",
    "Except for 2004, **all subsequent years hover near or above high-anomaly levels**. While still oscillating, the trend moves **steadily upward**, suggesting that **European summers may soon normalize around 2003-like conditions**.\n",
    "\n",
    "This reinforces the idea that **climate risk is escalating**, and 2003 is just a **milestone in a dangerous direction**, not a one-time event.\n",
    "\n",
    "---\n",
    "\n",
    "## My Reflection\n",
    "\n",
    "This project was eye-opening. Using **pandas, visual data, and graphs** made the information **not only compelling but alarming**. The modern age brings incredible innovation — but at a cost. According to the data, we’re not just advancing technologically; we’re also **destabilizing the very systems we rely on**.\n",
    "\n",
    "AI is a perfect symbol of this duality: it opens doors to **human evolution and potential**, but also **amplifies environmental threats**. Training models has a **real carbon cost**, as explored in the [2020 AINow report on AI and Climate](https://ainowinstitute.org/publications/ai-and-climate-change-how-theyre-connected-and-what-we-can-do-about-it?utm_source=chatgpt.com). These tools are powerful — but must be developed and used **responsibly**.\n",
    "\n",
    "---\n",
    "\n"
   ]
  }
 ],
 "metadata": {
  "colab": {
   "provenance": [
    {
     "file_id": "1amLO04tNjxzahvdVpYv5HBIUjq2Bh3N9",
     "timestamp": 1749674258438
    }
   ]
  },
  "kernelspec": {
   "display_name": "Python 3",
   "name": "python3"
  },
  "language_info": {
   "codemirror_mode": {
    "name": "ipython",
    "version": 3
   },
   "file_extension": ".py",
   "mimetype": "text/x-python",
   "name": "python",
   "nbconvert_exporter": "python",
   "pygments_lexer": "ipython3",
   "version": "3.13.5"
  }
 },
 "nbformat": 4,
 "nbformat_minor": 0
}
